{
  "nbformat": 4,
  "nbformat_minor": 0,
  "metadata": {
    "kernelspec": {
      "display_name": "Python 3",
      "language": "python",
      "name": "python3"
    },
    "language_info": {
      "codemirror_mode": {
        "name": "ipython",
        "version": 3
      },
      "file_extension": ".py",
      "mimetype": "text/x-python",
      "name": "python",
      "nbconvert_exporter": "python",
      "pygments_lexer": "ipython3",
      "version": "3.6.6"
    },
    "colab": {
      "provenance": []
    }
  },
  "cells": [
    {
      "cell_type": "markdown",
      "metadata": {
        "id": "EeUIUWVK75zR"
      },
      "source": [
        "##Knowlegde Check - 2\n"
      ]
    },
    {
      "cell_type": "markdown",
      "metadata": {
        "id": "5-1haVuV75zS"
      },
      "source": [
        "## Question# 1\n",
        "\n",
        "Points : 5 *italicized text*\n",
        "\n",
        "Write a function that returns the smallest of two even numbers, if both numbers are even and, the greater if one or both numbers are odd\n",
        "   \n",
        "                   lesser_of_two_evens(2,4) --> 2\n",
        "                   lesser_of_two_evens(2,5) --> 5"
      ]
    },
    {
      "cell_type": "code",
      "metadata": {
        "collapsed": true,
        "id": "0dDpOctA75zT"
      },
      "source": [
        "def smallest_of_two_evens(a,b):\n",
        "    if a % 2 == 0 and b % 2 == 0:\n",
        "        return min(a,b)\n",
        "    else:\n",
        "        return max(a,b)"
      ],
      "execution_count": 5,
      "outputs": []
    },
    {
      "cell_type": "code",
      "metadata": {
        "collapsed": true,
        "id": "TOqxVEyo75zT",
        "colab": {
          "base_uri": "https://localhost:8080/"
        },
        "outputId": "d15443a8-44d7-4d36-c71a-0bf358207e5d"
      },
      "source": [
        "# Check1\n",
        "smallest_of_two_evens(2,4)"
      ],
      "execution_count": 6,
      "outputs": [
        {
          "output_type": "execute_result",
          "data": {
            "text/plain": [
              "2"
            ]
          },
          "metadata": {},
          "execution_count": 6
        }
      ]
    },
    {
      "cell_type": "code",
      "metadata": {
        "collapsed": true,
        "id": "AdTCl-Go75zU",
        "colab": {
          "base_uri": "https://localhost:8080/"
        },
        "outputId": "eb1b5c13-4737-4e0c-992e-b46ab68e8fc7"
      },
      "source": [
        "# Check2\n",
        "smallest_of_two_evens(2,5)"
      ],
      "execution_count": 7,
      "outputs": [
        {
          "output_type": "execute_result",
          "data": {
            "text/plain": [
              "5"
            ]
          },
          "metadata": {},
          "execution_count": 7
        }
      ]
    },
    {
      "cell_type": "markdown",
      "metadata": {
        "id": "HRbQR0ka75zU"
      },
      "source": [
        "## Question# 2\n",
        "\n",
        "Points : 5\n",
        "\n",
        "Write a function takes a two-word string and returns True if both words begin with same letter.\n",
        "\n",
        "            word_crackers('Lion', 'Lady') --> True\n",
        "            word_crackers('Crazy', 'Drink') --> False"
      ]
    },
    {
      "cell_type": "code",
      "metadata": {
        "collapsed": true,
        "id": "QBFQi-X175zV"
      },
      "source": [
        "def animal_crackers(text1, text2):\n",
        "  return text1[0] == text2[0]"
      ],
      "execution_count": 8,
      "outputs": []
    },
    {
      "cell_type": "code",
      "metadata": {
        "collapsed": true,
        "id": "OrUKLE2o75zV",
        "colab": {
          "base_uri": "https://localhost:8080/"
        },
        "outputId": "93e84ef5-acb8-4b3d-c879-69779c4fc356"
      },
      "source": [
        "# Check1\n",
        "animal_crackers('Lion', 'Lady')"
      ],
      "execution_count": 9,
      "outputs": [
        {
          "output_type": "execute_result",
          "data": {
            "text/plain": [
              "True"
            ]
          },
          "metadata": {},
          "execution_count": 9
        }
      ]
    },
    {
      "cell_type": "code",
      "metadata": {
        "collapsed": true,
        "id": "OKmWGoaN75zW",
        "colab": {
          "base_uri": "https://localhost:8080/"
        },
        "outputId": "1829cd98-0c10-4485-b1f1-e1d69cbe4576"
      },
      "source": [
        "# Check2\n",
        "animal_crackers('Crazy', 'Drink')"
      ],
      "execution_count": 10,
      "outputs": [
        {
          "output_type": "execute_result",
          "data": {
            "text/plain": [
              "False"
            ]
          },
          "metadata": {},
          "execution_count": 10
        }
      ]
    },
    {
      "cell_type": "markdown",
      "metadata": {
        "id": "dTXH0FDi75zW"
      },
      "source": [
        "## Question# 3\n",
        "\n",
        "Points : 5\n",
        "\n",
        "Given two integers, return True if the sum of the integers is 20 *or* if one of the integers is 20. If not, return False\n",
        "\n",
        "    sum_twenty(20,10) --> True\n",
        "    sum_twenty(12,8) --> True\n",
        "    sum_twenty(2,3) --> False"
      ]
    },
    {
      "cell_type": "code",
      "metadata": {
        "collapsed": true,
        "id": "dpE6nfTH75zW"
      },
      "source": [
        "def sum_twenty(n1,n2):\n",
        "    if (n1 + n2) == 20 or n1 == 20 or n2 == 20:\n",
        "        return True\n",
        "    else:\n",
        "        return False"
      ],
      "execution_count": 11,
      "outputs": []
    },
    {
      "cell_type": "code",
      "metadata": {
        "collapsed": true,
        "id": "EbGjQmGS75zW",
        "colab": {
          "base_uri": "https://localhost:8080/"
        },
        "outputId": "02225d56-c845-4304-81f6-11f904152bb0"
      },
      "source": [
        "# Check1\n",
        "sum_twenty(20,10)"
      ],
      "execution_count": 12,
      "outputs": [
        {
          "output_type": "execute_result",
          "data": {
            "text/plain": [
              "True"
            ]
          },
          "metadata": {},
          "execution_count": 12
        }
      ]
    },
    {
      "cell_type": "code",
      "metadata": {
        "collapsed": true,
        "id": "dIsHz1Gz75zX",
        "colab": {
          "base_uri": "https://localhost:8080/"
        },
        "outputId": "57ac8fec-87f1-4c5c-cab2-00972e2e18f3"
      },
      "source": [
        "# Check2\n",
        "sum_twenty(2,3)"
      ],
      "execution_count": 13,
      "outputs": [
        {
          "output_type": "execute_result",
          "data": {
            "text/plain": [
              "False"
            ]
          },
          "metadata": {},
          "execution_count": 13
        }
      ]
    },
    {
      "cell_type": "markdown",
      "metadata": {
        "id": "y-LhSm8J75zX"
      },
      "source": [
        "## Question# 4\n",
        "\n",
        "Points : 5\n",
        "\n",
        "Write a function that capitalizes the first and fourth letters of a name\n",
        "     \n",
        "    cap_first_four('macdonald') --> MacDonald\n"
      ]
    },
    {
      "cell_type": "code",
      "metadata": {
        "collapsed": true,
        "id": "4A1VE97r75zX"
      },
      "source": [
        "def cap_first_four(name):\n",
        "    if len(name) >= 4:\n",
        "        return name[0].upper() + name[1:3] + name[3].upper() + name[4:]\n",
        "    elif len(name) == 1:\n",
        "        return name[0].upper()\n",
        "    else:\n",
        "        return name"
      ],
      "execution_count": 14,
      "outputs": []
    },
    {
      "cell_type": "code",
      "metadata": {
        "collapsed": true,
        "id": "xhjCfgwF75zX",
        "colab": {
          "base_uri": "https://localhost:8080/",
          "height": 36
        },
        "outputId": "c14e16e1-9d7a-4ec1-8c47-f1bb2a29598e"
      },
      "source": [
        "# Check\n",
        "cap_first_four('macdonald')"
      ],
      "execution_count": 15,
      "outputs": [
        {
          "output_type": "execute_result",
          "data": {
            "text/plain": [
              "'MacDonald'"
            ],
            "application/vnd.google.colaboratory.intrinsic+json": {
              "type": "string"
            }
          },
          "metadata": {},
          "execution_count": 15
        }
      ]
    },
    {
      "cell_type": "markdown",
      "metadata": {
        "id": "DFOpc81H75zY"
      },
      "source": [
        "## Question# 5\n",
        "\n",
        "Points : 5\n",
        "\n",
        "Given a sentence, return a sentence with the words reversed\n",
        "\n",
        "    rev_words('I am home') --> 'home am I'\n",
        "    rev_words('We are ready') --> 'ready are We'\n",
        "    \n",
        "Note: The .join() method may be useful here. The .join() method allows you to join.\n",
        "\n",
        "    \" \".join(['Hello','world'])\n",
        "    \"Hello world\""
      ]
    },
    {
      "cell_type": "code",
      "metadata": {
        "collapsed": true,
        "id": "3FVzZTFA75zY"
      },
      "source": [
        "def rev_words(text):\n",
        "    words = text.split()\n",
        "    reversed_words = words[::-1]\n",
        "    return \" \".join(reversed_words)"
      ],
      "execution_count": 17,
      "outputs": []
    },
    {
      "cell_type": "code",
      "metadata": {
        "collapsed": true,
        "id": "LAuWsFRa75zY",
        "colab": {
          "base_uri": "https://localhost:8080/",
          "height": 36
        },
        "outputId": "6f0faba3-c94c-4620-aa4a-8c18ca3ef22a"
      },
      "source": [
        "# Check1\n",
        "rev_words('I am home')"
      ],
      "execution_count": 18,
      "outputs": [
        {
          "output_type": "execute_result",
          "data": {
            "text/plain": [
              "'home am I'"
            ],
            "application/vnd.google.colaboratory.intrinsic+json": {
              "type": "string"
            }
          },
          "metadata": {},
          "execution_count": 18
        }
      ]
    },
    {
      "cell_type": "code",
      "metadata": {
        "collapsed": true,
        "id": "idtYNRCX75zZ",
        "colab": {
          "base_uri": "https://localhost:8080/",
          "height": 36
        },
        "outputId": "58639530-636e-40a3-aa00-1f11d6f749b7"
      },
      "source": [
        "# Check2\n",
        "rev_words('We are ready')"
      ],
      "execution_count": 19,
      "outputs": [
        {
          "output_type": "execute_result",
          "data": {
            "text/plain": [
              "'ready are We'"
            ],
            "application/vnd.google.colaboratory.intrinsic+json": {
              "type": "string"
            }
          },
          "metadata": {},
          "execution_count": 19
        }
      ]
    },
    {
      "cell_type": "markdown",
      "metadata": {
        "id": "KosRNbjZ75zZ"
      },
      "source": [
        "## Question# 6\n",
        "\n",
        "Points : 5\n",
        "\n",
        "Given an integer n, return True if n is nearest to either 100 or 200 with the difference of upto 10.\n",
        "\n",
        "    nearest_num(90) --> True\n",
        "    nearest_num(104) --> True\n",
        "    nearest_num(150) --> False\n",
        "    nearest_num(209) --> True\n",
        "    \n",
        "NOTE: `abs(num)` returns the absolute value of a number"
      ]
    },
    {
      "cell_type": "code",
      "metadata": {
        "collapsed": true,
        "id": "mYL-XUKn75zZ"
      },
      "source": [
        "def nearest_num(n):\n",
        "    return abs(100 - n) <= 10 or abs(200 - n) <= 10"
      ],
      "execution_count": 20,
      "outputs": []
    },
    {
      "cell_type": "code",
      "metadata": {
        "collapsed": true,
        "id": "SBy-ceNf75zZ",
        "colab": {
          "base_uri": "https://localhost:8080/"
        },
        "outputId": "3595c59a-7f05-4f9c-fc89-8006d9f50946"
      },
      "source": [
        "# Check1\n",
        "nearest_num(104)"
      ],
      "execution_count": 21,
      "outputs": [
        {
          "output_type": "execute_result",
          "data": {
            "text/plain": [
              "True"
            ]
          },
          "metadata": {},
          "execution_count": 21
        }
      ]
    },
    {
      "cell_type": "code",
      "metadata": {
        "collapsed": true,
        "id": "l3IiEN1w75zZ",
        "colab": {
          "base_uri": "https://localhost:8080/"
        },
        "outputId": "e8fa91a0-7c4d-454c-ab09-ac854b93818b"
      },
      "source": [
        "# Check2\n",
        "nearest_num(150)"
      ],
      "execution_count": 22,
      "outputs": [
        {
          "output_type": "execute_result",
          "data": {
            "text/plain": [
              "False"
            ]
          },
          "metadata": {},
          "execution_count": 22
        }
      ]
    },
    {
      "cell_type": "code",
      "metadata": {
        "collapsed": true,
        "id": "lBqJY_II75za",
        "colab": {
          "base_uri": "https://localhost:8080/"
        },
        "outputId": "edd45a60-f33d-49b8-d0b6-d5913aabc811"
      },
      "source": [
        "# Check3\n",
        "nearest_num(209)"
      ],
      "execution_count": 23,
      "outputs": [
        {
          "output_type": "execute_result",
          "data": {
            "text/plain": [
              "True"
            ]
          },
          "metadata": {},
          "execution_count": 23
        }
      ]
    },
    {
      "cell_type": "markdown",
      "metadata": {
        "id": "Aris-wDf75za"
      },
      "source": [
        "## Question# 7\n",
        "\n",
        "Points : 5\n",
        "\n",
        "Given a list of ints, return True if the list contains a same numeric value next.\n",
        "\n",
        "    contains_two_samevalues([1, 3, 3]) → True\n",
        "    contains_two_samevalues([1, 3, 1, 3]) → False\n",
        "    contains_two_samevalues([3, 1, 3]) → False"
      ]
    },
    {
      "cell_type": "code",
      "metadata": {
        "collapsed": true,
        "id": "Dw3iE01275za"
      },
      "source": [
        "def contains_two_samevalues(nums):\n",
        "    for i in range(len(nums) - 1):\n",
        "        if nums[i] == nums[i+1]:\n",
        "            return True\n",
        "    return False"
      ],
      "execution_count": 24,
      "outputs": []
    },
    {
      "cell_type": "code",
      "metadata": {
        "collapsed": true,
        "id": "VTEf2wIu75zb",
        "colab": {
          "base_uri": "https://localhost:8080/"
        },
        "outputId": "02af10dc-5e36-44f2-a126-5e6c35480a20"
      },
      "source": [
        "# Check1\n",
        "contains_two_samevalues([1, 3, 3])"
      ],
      "execution_count": 25,
      "outputs": [
        {
          "output_type": "execute_result",
          "data": {
            "text/plain": [
              "True"
            ]
          },
          "metadata": {},
          "execution_count": 25
        }
      ]
    },
    {
      "cell_type": "code",
      "metadata": {
        "collapsed": true,
        "id": "D1KxBkty75zb",
        "colab": {
          "base_uri": "https://localhost:8080/"
        },
        "outputId": "da258204-6ed6-4de2-f3d1-56acdf9c4f1d"
      },
      "source": [
        "# Check2\n",
        "contains_two_samevalues([1, 3, 1, 3])"
      ],
      "execution_count": 26,
      "outputs": [
        {
          "output_type": "execute_result",
          "data": {
            "text/plain": [
              "False"
            ]
          },
          "metadata": {},
          "execution_count": 26
        }
      ]
    },
    {
      "cell_type": "code",
      "metadata": {
        "collapsed": true,
        "id": "P_VM5Evm75zb",
        "colab": {
          "base_uri": "https://localhost:8080/"
        },
        "outputId": "740f9c6b-0557-4b48-c740-5f5d8b84af53"
      },
      "source": [
        "# Check3\n",
        "contains_two_samevalues([3, 1, 3])"
      ],
      "execution_count": 27,
      "outputs": [
        {
          "output_type": "execute_result",
          "data": {
            "text/plain": [
              "False"
            ]
          },
          "metadata": {},
          "execution_count": 27
        }
      ]
    },
    {
      "cell_type": "markdown",
      "metadata": {
        "id": "zUQ5fWNz75zb"
      },
      "source": [
        "## Question# 8\n",
        "\n",
        "Points : 5\n",
        "\n",
        "Given a string, return a string where for every character of the string appears 3 time.\n",
        "\n",
        "    repeat_three('Hello') --> 'HHHeeellllllooo'\n",
        "    repeat_three('Mississippi') --> 'MMMiiissssssiiissssssiiippppppiii'"
      ]
    },
    {
      "cell_type": "code",
      "metadata": {
        "collapsed": true,
        "id": "6vKzWOd475zb"
      },
      "source": [
        "def repeat_three(text):\n",
        "    result = \"\"\n",
        "    for char in text:\n",
        "        result += char * 3\n",
        "    return result"
      ],
      "execution_count": 28,
      "outputs": []
    },
    {
      "cell_type": "code",
      "metadata": {
        "collapsed": true,
        "id": "TtCaDFgF75zb",
        "colab": {
          "base_uri": "https://localhost:8080/",
          "height": 36
        },
        "outputId": "2cea24d9-21ca-49cf-bb45-8835a3479e4a"
      },
      "source": [
        "# Check1\n",
        "repeat_three('Hello')"
      ],
      "execution_count": 29,
      "outputs": [
        {
          "output_type": "execute_result",
          "data": {
            "text/plain": [
              "'HHHeeellllllooo'"
            ],
            "application/vnd.google.colaboratory.intrinsic+json": {
              "type": "string"
            }
          },
          "metadata": {},
          "execution_count": 29
        }
      ]
    },
    {
      "cell_type": "code",
      "metadata": {
        "collapsed": true,
        "id": "o8QYdzkO75zc",
        "colab": {
          "base_uri": "https://localhost:8080/",
          "height": 36
        },
        "outputId": "c0fc2194-91e5-407a-a6f6-39b26ebe95ea"
      },
      "source": [
        "# Check2\n",
        "repeat_three('Mississippi')"
      ],
      "execution_count": 30,
      "outputs": [
        {
          "output_type": "execute_result",
          "data": {
            "text/plain": [
              "'MMMiiissssssiiissssssiiippppppiii'"
            ],
            "application/vnd.google.colaboratory.intrinsic+json": {
              "type": "string"
            }
          },
          "metadata": {},
          "execution_count": 30
        }
      ]
    },
    {
      "cell_type": "markdown",
      "metadata": {
        "id": "mKoiX1Je75zg"
      },
      "source": [
        "## Question# 9\n",
        "\n",
        "Points : 5\n",
        "\n",
        "Write a function that returns the *number* of prime numbers that exist up to and including a given number\n",
        "\n",
        "    count_primes(100) --> 25\n",
        "\n",
        "By convention, 0 and 1 are not prime."
      ]
    },
    {
      "cell_type": "code",
      "metadata": {
        "collapsed": true,
        "id": "yYjs542q75zg"
      },
      "source": [
        "def count_primes(num):\n",
        "    if num < 2:\n",
        "        return 0\n",
        "\n",
        "    primes = [2]\n",
        "    x = 3\n",
        "    while x <= num:\n",
        "        for y in primes:\n",
        "            if x % y == 0:\n",
        "                x += 2\n",
        "                break\n",
        "        else:\n",
        "            primes.append(x)\n",
        "            x += 2\n",
        "    return len(primes)"
      ],
      "execution_count": 31,
      "outputs": []
    },
    {
      "cell_type": "code",
      "metadata": {
        "collapsed": true,
        "id": "62ZQGzsa75zg",
        "colab": {
          "base_uri": "https://localhost:8080/"
        },
        "outputId": "476238a6-6981-4fee-f1de-758ad57a1925"
      },
      "source": [
        "# Check1\n",
        "count_primes(100)"
      ],
      "execution_count": 32,
      "outputs": [
        {
          "output_type": "execute_result",
          "data": {
            "text/plain": [
              "25"
            ]
          },
          "metadata": {},
          "execution_count": 32
        }
      ]
    }
  ]
}